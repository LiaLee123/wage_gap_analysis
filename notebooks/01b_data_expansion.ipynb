{
 "cells": [
  {
   "cell_type": "code",
   "execution_count": 2,
   "id": "e399e489",
   "metadata": {},
   "outputs": [],
   "source": [
    "import pandas as pd"
   ]
  },
  {
   "cell_type": "code",
   "execution_count": null,
   "id": "ca16a2db",
   "metadata": {},
   "outputs": [],
   "source": [
    "df_small_rich = pd.read_csv('../data/processed/dataset_small_rich.csv')   # (100, 68)\n",
    "df = pd.read_csv('../data/processed/dataset_large_rich.csv')   # (5000, 68) original"
   ]
  },
  {
   "cell_type": "code",
   "execution_count": 4,
   "id": "b364f839",
   "metadata": {},
   "outputs": [
    {
     "name": "stdout",
     "output_type": "stream",
     "text": [
      "<class 'pandas.core.frame.DataFrame'>\n",
      "RangeIndex: 100 entries, 0 to 99\n",
      "Data columns (total 68 columns):\n",
      " #   Column                  Non-Null Count  Dtype  \n",
      "---  ------                  --------------  -----  \n",
      " 0   city_code               100 non-null    object \n",
      " 1   city_name               100 non-null    object \n",
      " 2   avg_salary              100 non-null    float64\n",
      " 3   avg_salary_female       100 non-null    float64\n",
      " 4   avg_salary_male         100 non-null    float64\n",
      " 5   log_gender_gap          100 non-null    float64\n",
      " 6   population_total        100 non-null    int64  \n",
      " 7   population_30_44        100 non-null    float64\n",
      " 8   population_female       100 non-null    float64\n",
      " 9   population_cs3          100 non-null    float64\n",
      " 10  latitude                100 non-null    float64\n",
      " 11  longitude               100 non-null    float64\n",
      " 12  vote_macron_share       100 non-null    float64\n",
      " 13  Ville                   100 non-null    object \n",
      " 14  Chomage                 100 non-null    float64\n",
      " 15  ChomageJeunes           100 non-null    float64\n",
      " 16  ChomageLong             100 non-null    float64\n",
      " 17  EvoluEmploiCree         100 non-null    float64\n",
      " 18  Activite                100 non-null    float64\n",
      " 19  EmploiFeminin           100 non-null    float64\n",
      " 20  EmploiCommune           100 non-null    float64\n",
      " 21  DefaillEntreprise       100 non-null    float64\n",
      " 22  SalaireAnnuel           100 non-null    int64  \n",
      " 23  Criminalite             100 non-null    float64\n",
      " 24  EvolutionCrimes         100 non-null    float64\n",
      " 25  SecuriteRoutiere        100 non-null    float64\n",
      " 26  Inondations             100 non-null    int64  \n",
      " 27  TerrainsPollues         100 non-null    int64  \n",
      " 28  UsinesRisques           100 non-null    int64  \n",
      " 29  MortaliteInfantile      100 non-null    float64\n",
      " 30  MortaliteCancerPoumon   100 non-null    float64\n",
      " 31  MortaliteAlcool         100 non-null    float64\n",
      " 32  DecesInfarctus          100 non-null    float64\n",
      " 33  TauxSuicide             100 non-null    float64\n",
      " 34  MortaliteGlobale        100 non-null    float64\n",
      " 35  TailleClassesPrimaires  100 non-null    float64\n",
      " 36  Retard6eme              100 non-null    float64\n",
      " 37  Retard3eme              100 non-null    float64\n",
      " 38  RetardTerminale         100 non-null    float64\n",
      " 39  MetreCarreAncien        100 non-null    int64  \n",
      " 40  TaxeHabitation          100 non-null    float64\n",
      " 41  FoncierBati             100 non-null    float64\n",
      " 42  MetreCubeEau            100 non-null    float64\n",
      " 43  Proprietaires           100 non-null    float64\n",
      " 44  LogtSup4pieces          100 non-null    float64\n",
      " 45  LogtInsalubre           100 non-null    float64\n",
      " 46  LogtVacant              100 non-null    float64\n",
      " 47  LogtConstruction        100 non-null    float64\n",
      " 48  Mer                     100 non-null    int64  \n",
      " 49  Ski                     100 non-null    int64  \n",
      " 50  Soleil                  100 non-null    int64  \n",
      " 51  Pluie                   100 non-null    float64\n",
      " 52  Temperature             100 non-null    float64\n",
      " 53  MarcheAPied             100 non-null    float64\n",
      " 54  Musees                  100 non-null    int64  \n",
      " 55  Cinema                  100 non-null    float64\n",
      " 56  MonumHistoriques        100 non-null    int64  \n",
      " 57  PretLivres              100 non-null    float64\n",
      " 58  RestaurDistingues       100 non-null    float64\n",
      " 59  Presse                  100 non-null    float64\n",
      " 60  Etudiants               100 non-null    float64\n",
      " 61  ImpotRevenu             100 non-null    int64  \n",
      " 62  ImpotFortune            100 non-null    float64\n",
      " 63  Imposables              100 non-null    int64  \n",
      " 64  EvolDemographique       100 non-null    float64\n",
      " 65  Vieillissement          100 non-null    float64\n",
      " 66  AttiranceGlobale        100 non-null    float64\n",
      " 67  AttiranceActifs         100 non-null    float64\n",
      "dtypes: float64(52), int64(13), object(3)\n",
      "memory usage: 53.2+ KB\n"
     ]
    }
   ],
   "source": [
    "df_small_rich.info()"
   ]
  },
  {
   "cell_type": "code",
   "execution_count": 5,
   "id": "135283e6",
   "metadata": {},
   "outputs": [
    {
     "name": "stdout",
     "output_type": "stream",
     "text": [
      "<class 'pandas.core.frame.DataFrame'>\n",
      "RangeIndex: 5263 entries, 0 to 5262\n",
      "Data columns (total 68 columns):\n",
      " #   Column                  Non-Null Count  Dtype  \n",
      "---  ------                  --------------  -----  \n",
      " 0   city_code               5263 non-null   object \n",
      " 1   city_name               5263 non-null   object \n",
      " 2   avg_salary              5263 non-null   float64\n",
      " 3   avg_salary_female       5263 non-null   float64\n",
      " 4   avg_salary_male         5263 non-null   float64\n",
      " 5   log_gender_gap          5263 non-null   float64\n",
      " 6   population_total        5263 non-null   int64  \n",
      " 7   population_30_44        5263 non-null   float64\n",
      " 8   population_female       5263 non-null   float64\n",
      " 9   population_cs3          5263 non-null   float64\n",
      " 10  latitude                5263 non-null   float64\n",
      " 11  longitude               5263 non-null   float64\n",
      " 12  vote_macron_share       5263 non-null   float64\n",
      " 13  Ville                   100 non-null    object \n",
      " 14  Chomage                 100 non-null    float64\n",
      " 15  ChomageJeunes           100 non-null    float64\n",
      " 16  ChomageLong             100 non-null    float64\n",
      " 17  EvoluEmploiCree         100 non-null    float64\n",
      " 18  Activite                100 non-null    float64\n",
      " 19  EmploiFeminin           100 non-null    float64\n",
      " 20  EmploiCommune           100 non-null    float64\n",
      " 21  DefaillEntreprise       100 non-null    float64\n",
      " 22  SalaireAnnuel           100 non-null    float64\n",
      " 23  Criminalite             100 non-null    float64\n",
      " 24  EvolutionCrimes         100 non-null    float64\n",
      " 25  SecuriteRoutiere        100 non-null    float64\n",
      " 26  Inondations             100 non-null    float64\n",
      " 27  TerrainsPollues         100 non-null    float64\n",
      " 28  UsinesRisques           100 non-null    float64\n",
      " 29  MortaliteInfantile      100 non-null    float64\n",
      " 30  MortaliteCancerPoumon   100 non-null    float64\n",
      " 31  MortaliteAlcool         100 non-null    float64\n",
      " 32  DecesInfarctus          100 non-null    float64\n",
      " 33  TauxSuicide             100 non-null    float64\n",
      " 34  MortaliteGlobale        100 non-null    float64\n",
      " 35  TailleClassesPrimaires  100 non-null    float64\n",
      " 36  Retard6eme              100 non-null    float64\n",
      " 37  Retard3eme              100 non-null    float64\n",
      " 38  RetardTerminale         100 non-null    float64\n",
      " 39  MetreCarreAncien        100 non-null    float64\n",
      " 40  TaxeHabitation          100 non-null    float64\n",
      " 41  FoncierBati             100 non-null    float64\n",
      " 42  MetreCubeEau            100 non-null    float64\n",
      " 43  Proprietaires           100 non-null    float64\n",
      " 44  LogtSup4pieces          100 non-null    float64\n",
      " 45  LogtInsalubre           100 non-null    float64\n",
      " 46  LogtVacant              100 non-null    float64\n",
      " 47  LogtConstruction        100 non-null    float64\n",
      " 48  Mer                     100 non-null    float64\n",
      " 49  Ski                     100 non-null    float64\n",
      " 50  Soleil                  100 non-null    float64\n",
      " 51  Pluie                   100 non-null    float64\n",
      " 52  Temperature             100 non-null    float64\n",
      " 53  MarcheAPied             100 non-null    float64\n",
      " 54  Musees                  100 non-null    float64\n",
      " 55  Cinema                  100 non-null    float64\n",
      " 56  MonumHistoriques        100 non-null    float64\n",
      " 57  PretLivres              100 non-null    float64\n",
      " 58  RestaurDistingues       100 non-null    float64\n",
      " 59  Presse                  100 non-null    float64\n",
      " 60  Etudiants               100 non-null    float64\n",
      " 61  ImpotRevenu             100 non-null    float64\n",
      " 62  ImpotFortune            100 non-null    float64\n",
      " 63  Imposables              100 non-null    float64\n",
      " 64  EvolDemographique       100 non-null    float64\n",
      " 65  Vieillissement          100 non-null    float64\n",
      " 66  AttiranceGlobale        100 non-null    float64\n",
      " 67  AttiranceActifs         100 non-null    float64\n",
      "dtypes: float64(64), int64(1), object(3)\n",
      "memory usage: 2.7+ MB\n"
     ]
    }
   ],
   "source": [
    "df.info()"
   ]
  },
  {
   "cell_type": "markdown",
   "id": "bd8c795c",
   "metadata": {},
   "source": [
    "# KNN weighted interpolation"
   ]
  },
  {
   "cell_type": "code",
   "execution_count": 10,
   "id": "38942906",
   "metadata": {},
   "outputs": [],
   "source": [
    "import numpy as np\n",
    "import pandas as pd\n",
    "from sklearn.neighbors import NearestNeighbors\n",
    "from sklearn.preprocessing import StandardScaler\n"
   ]
  },
  {
   "cell_type": "code",
   "execution_count": 30,
   "id": "981f4d72",
   "metadata": {},
   "outputs": [],
   "source": [
    "import numpy as np\n",
    "import pandas as pd\n",
    "from sklearn.preprocessing import StandardScaler\n",
    "from sklearn.neighbors import NearestNeighbors\n",
    "\n",
    "df_small = pd.read_csv('../data/processed/dataset_small_rich.csv')  # (100, 68)\n",
    "df_large = pd.read_csv('../data/processed/dataset_large_rich.csv')  # (5263, 68)\n",
    "\n",
    "\n",
    "ville_large = df_large['Ville'].copy()\n",
    "\n",
    "\n",
    "df_large = df_large.drop(columns=['Ville'])\n",
    "df_small = df_small.drop(columns=['Ville'])\n",
    "\n",
    "BASE_FEATURES = df_large.columns[2:13]\n",
    "TARGET_FEATURES = df_large.columns[13:]\n",
    "\n",
    "\n",
    "for df in (df_small, df_large):\n",
    "    df[BASE_FEATURES]   = df[BASE_FEATURES].apply(pd.to_numeric, errors='coerce')\n",
    "    df[TARGET_FEATURES] = df[TARGET_FEATURES].apply(pd.to_numeric, errors='coerce')\n",
    "\n",
    "X_ref  = df_small[BASE_FEATURES].to_numpy(dtype=float)\n",
    "y_ref  = df_small[TARGET_FEATURES].to_numpy(dtype=float)\n",
    "\n",
    "fill_mask = df_large[TARGET_FEATURES].isnull().any(axis=1)\n",
    "X_fill    = df_large.loc[fill_mask, BASE_FEATURES].to_numpy(dtype=float)\n",
    "\n",
    "scaler = StandardScaler().fit(X_ref)\n",
    "X_ref_scaled  = scaler.transform(X_ref)\n",
    "X_fill_scaled = scaler.transform(X_fill)\n",
    "\n",
    "def adaptive_knn_fill(X_ref, y_ref, X_fill, k_range=(3, 10)):\n",
    "    filled_data = np.zeros((X_fill.shape[0], y_ref.shape[1]), dtype=float)\n",
    "    max_k = max(k_range)\n",
    "    nn = NearestNeighbors(n_neighbors=max_k).fit(X_ref)\n",
    "\n",
    "    for i, point in enumerate(X_fill):\n",
    "        dist, idx = nn.kneighbors(point.reshape(1, -1))\n",
    "        dist = dist[0]; idx = idx[0]\n",
    "\n",
    "        valid_k = min(max_k, len(idx))\n",
    "        k = min(3, valid_k) if dist[0] > 2 * np.median(dist) else min(7, valid_k)\n",
    "\n",
    "        \n",
    "        w = np.exp(-dist[:k]**2 / (2 * np.median(dist[:k])**2))\n",
    "        w /= w.sum()\n",
    "        filled_data[i] = np.sum(w[:, None] * y_ref[idx[:k]], axis=0)\n",
    "    return filled_data\n",
    "\n",
    "filled_values = adaptive_knn_fill(X_ref_scaled, y_ref, X_fill_scaled)\n",
    "\n",
    "df_large.loc[fill_mask, TARGET_FEATURES] = filled_values\n",
    "\n",
    "\n",
    "df_large.insert(0, 'Ville', ville_large)\n",
    "\n",
    "df_large.to_csv('../data/processed/dataset_large_rich_filled.csv', index=False)\n"
   ]
  },
  {
   "cell_type": "code",
   "execution_count": 3,
   "id": "75a9e3df",
   "metadata": {},
   "outputs": [
    {
     "name": "stdout",
     "output_type": "stream",
     "text": [
      "0\n",
      "(5263, 68)\n"
     ]
    }
   ],
   "source": [
    "df_filled = pd.read_csv('../data/processed/dataset_large_rich_filled.csv')\n",
    "\n",
    "print(df_filled.isnull().sum().sum())  \n",
    "print(df_filled.shape) \n"
   ]
  },
  {
   "cell_type": "code",
   "execution_count": 6,
   "id": "da491c7e",
   "metadata": {},
   "outputs": [
    {
     "name": "stdout",
     "output_type": "stream",
     "text": [
      "Non-empty quantity: 5263\n"
     ]
    }
   ],
   "source": [
    "\n",
    "print(\"Non-empty quantity:\", df_filled['Ville'].notna().sum())\n",
    "\n",
    "\n",
    "df_filled['Ville'] = df_filled['Ville'].where(df_filled['Ville'].notna(), \"city_name\")\n",
    "\n",
    "\n",
    "\n",
    "df_filled.to_csv('../data/processed/dataset_large_rich_filled_cityname.csv', index=False)\n"
   ]
  },
  {
   "cell_type": "code",
   "execution_count": 5,
   "id": "b1c0b9b2",
   "metadata": {},
   "outputs": [
    {
     "name": "stdout",
     "output_type": "stream",
     "text": [
      "0\n",
      "(5263, 68)\n"
     ]
    }
   ],
   "source": [
    "df_filled = pd.read_csv('../data/processed/dataset_large_rich_filled_cityname.csv')\n",
    "\n",
    "print(df_filled.isnull().sum().sum())  \n",
    "print(df_filled.shape) "
   ]
  }
 ],
 "metadata": {
  "kernelspec": {
   "display_name": "Python 3",
   "language": "python",
   "name": "python3"
  },
  "language_info": {
   "codemirror_mode": {
    "name": "ipython",
    "version": 3
   },
   "file_extension": ".py",
   "mimetype": "text/x-python",
   "name": "python",
   "nbconvert_exporter": "python",
   "pygments_lexer": "ipython3",
   "version": "3.10.0"
  }
 },
 "nbformat": 4,
 "nbformat_minor": 5
}
